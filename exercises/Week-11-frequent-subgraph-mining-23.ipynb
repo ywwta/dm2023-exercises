{
 "cells": [
  {
   "cell_type": "markdown",
   "metadata": {},
   "source": [
    "# Exercises on Frequent Subgraph Mining"
   ]
  },
  {
   "cell_type": "code",
   "execution_count": 1,
   "metadata": {},
   "outputs": [
    {
     "ename": "ModuleNotFoundError",
     "evalue": "No module named 'tabulate'",
     "output_type": "error",
     "traceback": [
      "\u001b[1;31m---------------------------------------------------------------------------\u001b[0m",
      "\u001b[1;31mModuleNotFoundError\u001b[0m                       Traceback (most recent call last)",
      "Cell \u001b[1;32mIn[1], line 4\u001b[0m\n\u001b[0;32m      2\u001b[0m \u001b[39mimport\u001b[39;00m \u001b[39mnetworkx\u001b[39;00m \u001b[39mas\u001b[39;00m \u001b[39mnx\u001b[39;00m\n\u001b[0;32m      3\u001b[0m \u001b[39mimport\u001b[39;00m \u001b[39mmatplotlib\u001b[39;00m\u001b[39m.\u001b[39;00m\u001b[39mpyplot\u001b[39;00m \u001b[39mas\u001b[39;00m \u001b[39mplt\u001b[39;00m\n\u001b[1;32m----> 4\u001b[0m \u001b[39mfrom\u001b[39;00m \u001b[39mtabulate\u001b[39;00m \u001b[39mimport\u001b[39;00m tabulate\n",
      "\u001b[1;31mModuleNotFoundError\u001b[0m: No module named 'tabulate'"
     ]
    }
   ],
   "source": [
    "import numpy as np\n",
    "import networkx as nx\n",
    "import matplotlib.pyplot as plt\n",
    "from tabulate import tabulate"
   ]
  },
  {
   "cell_type": "markdown",
   "metadata": {},
   "source": [
    "## Exercise 1 - DFS codes\n",
    "### Part A:\n",
    "\n",
    "Consider the graph illustrated in Figure 1 and its DFS traversal:\n",
    "\n",
    "<div style=\"margin: 0 auto; padding: 1em; text-align: center; max-width: 500px;\">\n",
    "    <img src=\"graphics/graph_dfs.jpg\" />\n",
    "    <p><b>Figure 1:</b> DFS traversal on graph. \n",
    "</div>\n",
    "\n",
    "The figure already lists some precedence relationships among edges in this DFS traversal, along with the ordering rule by which they hold. As a reminder, for $e_1 = (i_1, j_1), e_2 = (i_2, j_2)$, the following ordering rules hold:\n",
    "\n",
    "1. If $i_1 = i_2$ and $j_1 < j_2 \\Rightarrow e_1 < e_2$ \n",
    "2. If $i_1 < j_1$ and $j_1 = i_2 \\Rightarrow e_1 < e_2$\n",
    "3. If $e_1 < e_2$ and $e_2 < e_3 \\Rightarrow e_1 < e_3$  (transitive property)\n",
    "\n",
    "Complete the list of precedence relationships and rules by which they hold.\n",
    "\n",
    "### Part B:\n",
    "\n",
    "Apart from the DFS traversal examined in the above and the corresponding code, the same graph has other DFS codes as well. Figure 2 below shows two other cases.\n",
    "\n",
    "<div style=\"margin: 0 auto; padding: 1em; text-align: center; max-width: 500px;\">\n",
    "    <img src=\"graphics/graph2_dfs.jpg\" />\n",
    "    <p><b>Figure 2:</b> DFS traversal on graph. \n",
    "</div>\n",
    "\n",
    "Write the DFS code of the two rightmost graphs in the Figure."
   ]
  },
  {
   "attachments": {},
   "cell_type": "markdown",
   "metadata": {},
   "source": [
    "0:  (0,1,X,a,X)\n",
    "1:  (1,2,X,a,Y)\n",
    "2:  (2,0,Y,b,X)\n",
    "3:  (2,3,Y,b,Z)\n",
    "4:  (3,0,Z,c,X)\n",
    "5:  (2,3,Y,d,Z)"
   ]
  },
  {
   "attachments": {},
   "cell_type": "markdown",
   "metadata": {},
   "source": [
    "### Part C:\n",
    "\n",
    "Find the minimal DFS code of the same graph by lexicographic ordering. (hint: see slides)\n",
    "\n",
    "Problem from before: we can just start in different places and bias the DFS code. SO we do a minimal code instead, which is unique for a graph.\n",
    "\n",
    "\n",
    "\n",
    "Idea: anything that starts with a Z is probably wrong AND -------\n",
    "\n",
    "START of the 2nd to last graph:\n",
    "0: (0,1,Y,a,X)\n",
    "1: (1,2,X,a,X)\n",
    "\n",
    "then if we want to find out what is minimal:\n",
    "- first of all: do the two numbers match up? if they don't, take the one with the smallest path\n",
    "- second: lexicographical. (0,1,Y,a,X) is bigger than (0,1,X,a,X) as it has a Y in the first position - that means that the isomorphic graph with code (0,1,X,a,X) is smaller lexicographically\n",
    "\n",
    "\n",
    "The first difference that we reach will determine which is lexicographically smaller - e.g. does not matter that the destination in graph 1 is X where it is Y in graph 2 if graph 2 has edge label a and graph 1 has edge label b - just means that we see \"a\" and go \"oh, graph 2 is then lexicographically smaller."
   ]
  },
  {
   "cell_type": "markdown",
   "metadata": {},
   "source": [
    "### Part D:\n",
    "\n",
    "Consider the following mutation of labels in the above graph: all ‘a’ labels are turned to ‘b’ and ‘b’ labels are turned to ‘a’ (i.e., ‘a’ and ‘b’ labels swap values). Find the minimal DFS code of the new, mutated graph."
   ]
  },
  {
   "cell_type": "markdown",
   "metadata": {},
   "source": [
    "## Exercise 2 (min DFS code generation).\n",
    "\n",
    "Implement an algorithm that finds the minimum DFS-code of a given graph. Hint: You may extract such an algorithm from this [gSpan code](https://github.com/LasseRegin/gSpan).\n",
    "\n",
    "Note that we only need to generate a minimum DFS-code for the whole graph, rather than exhaustively generating all the DFS codes for its subgraphs, as gSpan does."
   ]
  },
  {
   "cell_type": "markdown",
   "metadata": {},
   "source": [
    "Let's build the graph corresponding to Figure 1 and Figure 2, which we can use to test our implementation."
   ]
  },
  {
   "cell_type": "markdown",
   "metadata": {},
   "source": [
    "First, we have a graph and some helper function."
   ]
  },
  {
   "cell_type": "code",
   "execution_count": null,
   "metadata": {},
   "outputs": [],
   "source": [
    "# Defining the graph (with labels)\n",
    "G = nx.Graph()\n",
    "G.add_node(4, label='Z')\n",
    "G.add_node(0, label='X')\n",
    "G.add_node(2, label='X')\n",
    "G.add_node(1, label='Y')\n",
    "G.add_node(3, label='Z')\n",
    "G.add_edge(0, 1, label='a')\n",
    "G.add_edge(2, 3, label='c')\n",
    "G.add_edge(0, 2, label='a')\n",
    "G.add_edge(1, 3, label='b')\n",
    "G.add_edge(1, 4, label='d')\n",
    "G.add_edge(1, 2, label='b')\n",
    "pos = {0: (0., 1.), 1: (0.08, 0.75), 2: (0., 0.5), 3: (0.08, 0.25), 4: (0.25, 0.5)}  # Layout for plotting\n",
    "\n",
    "# Plotting the graph\n",
    "def plot_graph_with_labels(G, pos, ax, label_key='label'):\n",
    "    # Draw nodes and edges (without labels)\n",
    "    nx.draw(G, pos=pos, ax=ax) \n",
    "    # Draw node labels\n",
    "    nx.draw_networkx_labels(G, pos=pos, labels={k:v for k, v in G.nodes(data=label_key)}, font_color='white') \n",
    "    # Draw edge labels\n",
    "    nx.draw_networkx_edge_labels(G, pos=pos, edge_labels={tuple(pos): v for *pos, v in G.edges(data=label_key)}, font_color='black')\n",
    "    \n",
    "fig, ax = plt.subplots()\n",
    "ax.set_xlim([-0.5, 0.5])\n",
    "plot_graph_with_labels(G, pos, ax)"
   ]
  },
  {
   "cell_type": "code",
   "execution_count": null,
   "metadata": {},
   "outputs": [],
   "source": [
    "# A couple of python tricks: \n",
    "print(\"1. You can get the label of a node as follows:\")\n",
    "print(\"Label for node 1: \", G.nodes[1]['label'])\n",
    "\n",
    "print(\"---\")\n",
    "print(\"2. You can get the nodes and associated labels as follows:\")\n",
    "for n, l in G.nodes(data='label'):\n",
    "    print(n, l)\n",
    "    \n",
    "print(\"---\")\n",
    "print(\"3. You can get the edge labels as follows:\")\n",
    "print(\"Label for edge (1, 3): \", G.edges[(1, 3)]['label'])\n",
    "\n",
    "print(\"---\")\n",
    "print(\"4. You can get all edges and their labels as follows: \")\n",
    "for i, j, l in G.edges(data='label'):\n",
    "    print(\"Node (%d, %d) has label %s\" % (i, j, l))\n",
    "    \n",
    "print(\"---\")\n",
    "print(\"5. Neighbors of a node n can be found as follows:\")\n",
    "neighbors = list(G.neighbors(1))\n",
    "neighbors_with_labels = [(n, G.nodes[n]['label']) for n in G.neighbors(1)]\n",
    "print(neighbors, neighbors_with_labels)\n",
    "\n",
    "print(\"You could even define a function that sorts them\")\n",
    "def neighbors(G, n):\n",
    "    \"\"\" Returns list of tuples of (node_idx, neighbor_idx, 'edge_label', 'neighbor_label')\n",
    "        sorted lexicographically by labels\n",
    "    \"\"\"\n",
    "    edges = G.edges\n",
    "    nodes = G.nodes\n",
    "    \n",
    "    neighbors = [(n, n_, edges[(n, n_)]['label'], nodes[n_]['label']) for n_ in G.neighbors(n)]\n",
    "    neighbors = sorted(neighbors, key=lambda x: tuple(x[2:]))\n",
    "    return neighbors\n",
    "\n",
    "print(neighbors(G, 1))"
   ]
  },
  {
   "cell_type": "code",
   "execution_count": null,
   "metadata": {},
   "outputs": [],
   "source": [
    "def dfs(G, v): # Performs dfs search on G starting in node v. Builds and returns dfs code\n",
    "    node_idx      = dict.fromkeys(G.nodes(), -1)      # Map that keeps order of discovery of each node.\n",
    "    nodes_visited = dict.fromkeys(G.nodes(), False)   # Map that keeps visited nodes to not recurse forever.\n",
    "    edges_visited = dict.fromkeys(G.edges(), False)   # Map that keeps handled edges (already output).\n",
    "    \n",
    "    node_idx[v]         = 0     # First node get idx 0\n",
    "    nodes_visited[v]    = True  # Mark first node visited\n",
    "     \n",
    "    # Function to produce a code tuple from two node indices, i.e., (i, j, Li, Lij, Lj)\n",
    "    tup = lambda fr, to: (node_idx[fr], node_idx[to], G.nodes[fr]['label'], G.edges[(fr, to)]['label'], G.nodes[to]['label'])\n",
    "    \n",
    "    # Shorthand for marking and reading marked edges. Solves issue with nodes that can be ordered arbitratily (i, j) or (j, i)\n",
    "    def mark_edge(v1, v2):\n",
    "        if (v1, v2) in edges_visited: edges_visited[(v1, v2)] = True\n",
    "        else:                         edges_visited[(v2, v1)] = True\n",
    "    edge_marked = lambda v1, v2: edges_visited.get((v1, v2), False) or edges_visited.get((v2, v1), False)\n",
    "    \n",
    "    # Initialize edge queue by edges from starting node in lexicographic order.\n",
    "    queue    = neighbors(G, v)[::-1] # Reverse order to take lexicographically smallest first\n",
    "    # [e1, e2, .... ei-1] + [ v.edges (sorted) ]\n",
    "    code     = [] # Output code\n",
    "    \n",
    "    k = 1 # Counter for node idx\n",
    "    while len(queue) > 0: # Visit all edges DFS\n",
    "        node_from, curr_node, *_ = queue.pop() # Take last element from queue\n",
    "        \n",
    "        if edge_marked(node_from, curr_node): continue # Don't use the same edge multiple times\n",
    "        mark_edge(node_from, curr_node) # Mark edge as visited\n",
    "        \n",
    "        if nodes_visited[curr_node]:                  # Backward node\n",
    "            code.append(tup(node_from, curr_node))\n",
    "            \n",
    "        else:                                         # Forward edge => we need to add curr_nodes's edges to the queue\n",
    "            node_idx[curr_node] = k\n",
    "            nodes_visited[curr_node]  = True\n",
    "            k += 1\n",
    "            \n",
    "            code.append(tup(node_from, curr_node))\n",
    "            \n",
    "            edges = [ (not nodes_visited[t[1]], *t) for t in neighbors(G, curr_node) ] # Add `visited` to tuple, to prioritize backward edges first\n",
    "            edges = sorted( edges )\n",
    "            queue += [t[1:] for t in edges][::-1] # Remove `visited` again\n",
    "        \n",
    "    return code\n",
    "    \n",
    "\n",
    "# print dfs codes for different starting nodes\n",
    "print(\"Node 0\\n\", tabulate(dfs(G, 0)))\n",
    "print(\"Node 1\\n\", tabulate(dfs(G, 1)))\n",
    "print(\"Node 2\\n\", tabulate(dfs(G, 2)))\n",
    "print(\"Node 3\\n\", tabulate(dfs(G, 3)))\n",
    "print(\"Node 4\\n\", tabulate(dfs(G, 4)))\n",
    "\n"
   ]
  },
  {
   "cell_type": "markdown",
   "metadata": {},
   "source": [
    "Then, we need to implement ordering rules."
   ]
  },
  {
   "cell_type": "code",
   "execution_count": 2,
   "metadata": {},
   "outputs": [],
   "source": [
    "def compare(c1, c2): # Check if c1 < c2 for dfs codes c1, c2\n",
    "    \"\"\"\n",
    "        Function for comparing 2 dfs codes lexicographically. Defines sorting of dfs codes.\n",
    "        Input:\n",
    "            c1:   list of tuples [(i, j, L_i, L_{ij}, L_j), ...]\n",
    "            c2:   list of tuples [(i, j, L_i, L_{ij}, L_j), ...]\n",
    "        Output:\n",
    "            1 if c1 > c2, -1 if c1 < c2, 0 if c1 == c2  \n",
    "    \"\"\"\n",
    "    if len(c1) != len(c2): raise ValueException(\"Codes should be of same length\")\n",
    "        \n",
    "    # TODO Your code here\n",
    "    # Hint: Check slides for definition of comparrison of dfs codes.\n",
    "    for i in range(len(c1)):\n",
    "        t1 = c1[i]\n",
    "        t2 = c2[i]\n",
    "\n",
    "        if t1 == t2: # skip identical tuples\n",
    "            continue\n",
    "\n",
    "        i1, j1, Li1, Lij1, Lj1 = t1\n",
    "        i2, j2, Li2, Lij2, Lj2 = t2\n",
    "\n",
    "        # case 1: both forward (ja = jb)\n",
    "        if j1 == j2:\n",
    "            return -1 if (i1 < i2) or (i1 == i2 and (Li1, Lij1, Lj1) < (Li2, Lij2, Lj2)) else 1\n",
    "        \n",
    "        # case 2: both backward\n",
    "        if i1 == i2:\n",
    "            return -1 if (j1 < j2 or (j1 == j2 and Lij1 < Lij2)) else 1\n",
    "        \n",
    "        # case 3: Backward edges come before forward\n",
    "        if j1 < i1: return -1\n",
    "        elif j2 < i2: return 1\n",
    "    \n",
    "    # TODO Your code here\n",
    "        \n",
    "    return 0 # codes are identical\n",
    " "
   ]
  },
  {
   "cell_type": "markdown",
   "metadata": {},
   "source": [
    "Finally, compare all dfs code given by *dfs()*."
   ]
  },
  {
   "cell_type": "code",
   "execution_count": null,
   "metadata": {},
   "outputs": [],
   "source": [
    "def min_dfs_code(G):\n",
    "    \"\"\"\n",
    "        Input:\n",
    "            G:   A networkx graph.\n",
    "        Output:\n",
    "            min_dfs: A list of tuples [(i, j, L_i, L_{ij}, L_j), ...]\n",
    "            min_node: Index of node with minimum dfs code\n",
    "    \"\"\"\n",
    "    min_dfs = []\n",
    "    min_node = 0\n",
    "    # TODO Your code here\n",
    "    dfss = [dfs(G,n) for n in G.nodes()]\n",
    "    min_dfs = dfss[0]\n",
    "    j=0\n",
    "    for i in range(1, len(dfss)):\n",
    "        val = compare(min_dfs, dfss[i])\n",
    "        if val == 1:\n",
    "            min_dfs = dfss[i]\n",
    "            j = i        \n",
    "    # TODO Your code here\n",
    "    return min_dfs, j\n",
    "\n"
   ]
  },
  {
   "cell_type": "code",
   "execution_count": null,
   "metadata": {},
   "outputs": [],
   "source": [
    "min_code, min_node = min_dfs_code(G)\n",
    "\n",
    "print(\"Min node is: \", min_node)\n",
    "print(\"Code: \")\n",
    "print(tabulate(min_code, headers=['i', 'j', 'Li', 'Lij', 'Lj']))"
   ]
  },
  {
   "cell_type": "markdown",
   "metadata": {},
   "source": [
    "#### Exercise 2.1\n",
    "Unfortunately, *dfs()* is incorrect (although it works fine with above graph). Can you give a counterexample and point out why it is wrong?"
   ]
  }
 ],
 "metadata": {
  "kernelspec": {
   "display_name": "Python 3 (ipykernel)",
   "language": "python",
   "name": "python3"
  },
  "language_info": {
   "codemirror_mode": {
    "name": "ipython",
    "version": 3
   },
   "file_extension": ".py",
   "mimetype": "text/x-python",
   "name": "python",
   "nbconvert_exporter": "python",
   "pygments_lexer": "ipython3",
   "version": "3.10.9"
  }
 },
 "nbformat": 4,
 "nbformat_minor": 4
}
